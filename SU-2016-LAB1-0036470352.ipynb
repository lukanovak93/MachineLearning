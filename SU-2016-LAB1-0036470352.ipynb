{
 "cells": [
  {
   "cell_type": "markdown",
   "metadata": {},
   "source": [
    "Sveučilište u Zagrebu<br>\n",
    "Fakultet elektrotehnike i računarstva\n",
    "\n",
    "## Strojno učenje 2016./2017.\n",
    "\n",
    "<a href=\"http://www.fer.unizg.hr/predmet/su\">http://www.fer.unizg.hr/predmet/su</a>"
   ]
  },
  {
   "cell_type": "markdown",
   "metadata": {},
   "source": [
    "### Laboratorijska vježba 1: Regresija\n",
    "\n",
    "(c) 2015-2016 Jan Šnajder, Domagoj Alagić i Mladen Karan\n",
    "\n",
    "<i>Verzija: 0.2</i> <br/>\n",
    "<i>Zadnji put ažurirano: 11. listopada 2016.</i> "
   ]
  },
  {
   "cell_type": "markdown",
   "metadata": {},
   "source": [
    "Objavljeno: **12. listopada 2016.**<br>\n",
    "Rok za predaju: U terminu vježbe u tjednu od **17. listopada 2016.**"
   ]
  },
  {
   "cell_type": "markdown",
   "metadata": {},
   "source": [
    "### Upute\n",
    "\n",
    "Prva laboratorijska vježba sastoji se od **sedam** zadataka. Kako bi kvalitetnije, ali i na manje zamoran način usvojili gradivo ovog kolegija, potrudili smo se uključiti tri vrste zadataka: **1)** implementacija manjih algoritama, modela ili postupaka; **2)** eksperimenti s raznim modelima te njihovim hiperparametrima, te **3)** primjena modela na (stvarnim) podatcima. Ovim zadatcima pokrivamo dvije paradigme učenja: učenje izgradnjom (engl. *learning by building*) i učenje eksperimentiranjem (engl. *learning by experimenting*).\n",
    "\n",
    "U nastavku slijedite upute navedene u ćelijama s tekstom. Rješavanje vježbe svodi se na **dopunjavanje ove bilježnice**: umetanja ćelije ili više njih **ispod** teksta zadatka, pisanja odgovarajućeg kôda te evaluiranja ćelija. \n",
    "\n",
    "Osigurajte da u potpunosti **razumijete** kôd koji ste napisali. Kod predaje vježbe, morate biti u stanju na zahtjev asistenta (ili demonstratora) preinačiti i ponovno evaluirati Vaš kôd. Nadalje, morate razumjeti teorijske osnove onoga što radite, u okvirima onoga što smo obradili na predavanju. Ispod nekih zadataka možete naći i pitanja koja služe kao smjernice za bolje razumijevanje gradiva (**nemojte pisati** odgovore na pitanja u bilježnicu). Stoga se nemojte ograničiti samo na to da riješite zadatak, nego slobodno eksperimentirajte. To upravo i jest svrha ovih vježbi.\n",
    "\n",
    "Vježbe trebate raditi **samostalno**. Možete se konzultirati s drugima o načelnom načinu rješavanja, ali u konačnici morate sami odraditi vježbu. U protivnome vježba nema smisla."
   ]
  },
  {
   "cell_type": "code",
   "execution_count": 1,
   "metadata": {
    "collapsed": false
   },
   "outputs": [
    {
     "name": "stdout",
     "output_type": "stream",
     "text": [
      "Populating the interactive namespace from numpy and matplotlib\n"
     ]
    }
   ],
   "source": [
    "# Učitaj osnovne biblioteke...\n",
    "import numpy as np\n",
    "import scipy as sp\n",
    "import sklearn\n",
    "import matplotlib.pyplot as plt\n",
    "%pylab inline"
   ]
  },
  {
   "cell_type": "markdown",
   "metadata": {},
   "source": [
    "## Zadatci"
   ]
  },
  {
   "cell_type": "markdown",
   "metadata": {},
   "source": [
    "### 1. Univarijatna regresija"
   ]
  },
  {
   "cell_type": "markdown",
   "metadata": {},
   "source": [
    "Zadan je skup primjera $\\mathcal{D}=\\{(x^{(i)},y^{(i)})\\}_{i=1}^4 = \\{(0,4),(1,1),(2,2),(4,5)\\}$. Primjere predstavite matrixom $\\mathbf{X}$ dimenzija $N\\times n$ (u ovom slučaju $4\\times 1$) i vektorom oznaka $\\textbf{y}$, dimenzija $N\\times 1$ (u ovom slučaju $4\\times 1$), na sljedeći način:\n"
   ]
  },
  {
   "cell_type": "code",
   "execution_count": 2,
   "metadata": {
    "collapsed": false
   },
   "outputs": [
    {
     "name": "stdout",
     "output_type": "stream",
     "text": [
      "[[0]\n",
      " [1]\n",
      " [2]\n",
      " [4]] [4 1 2 5]\n"
     ]
    }
   ],
   "source": [
    "X = np.array([[0],[1],[2],[4]])\n",
    "y = np.array([4,1,2,5])\n",
    "print X, y"
   ]
  },
  {
   "cell_type": "markdown",
   "metadata": {},
   "source": [
    "### (a)\n",
    "\n",
    "Proučite funkciju [`PolynomialFeatures`](http://scikit-learn.org/stable/modules/generated/sklearn.preprocessing.PolynomialFeatures.html) iz biblioteke `sklearn` i upotrijebite je za generiranje dizajn-matrice $\\mathbf{\\Phi}$ koja ne koristi preslikavanje u prostor više dimenzije (samo će svakom primjeru biti dodane *dummy* jedinice; $m=n+1$).\n"
   ]
  },
  {
   "cell_type": "code",
   "execution_count": 3,
   "metadata": {
    "collapsed": false
   },
   "outputs": [
    {
     "name": "stdout",
     "output_type": "stream",
     "text": [
      "PolynomialFeatures(degree=1, include_bias=True, interaction_only=False)\n"
     ]
    },
    {
     "data": {
      "text/plain": [
       "array([[ 1.,  0.],\n",
       "       [ 1.,  1.],\n",
       "       [ 1.,  2.],\n",
       "       [ 1.,  4.]])"
      ]
     },
     "execution_count": 3,
     "metadata": {},
     "output_type": "execute_result"
    }
   ],
   "source": [
    "from sklearn.preprocessing import PolynomialFeatures\n",
    "p = PolynomialFeatures(1)\n",
    "print p\n",
    "feat = p.fit_transform(X)\n",
    "feat"
   ]
  },
  {
   "cell_type": "markdown",
   "metadata": {},
   "source": [
    "### (b)"
   ]
  },
  {
   "cell_type": "markdown",
   "metadata": {},
   "source": [
    "Upoznajte se s modulom [`linalg`](http://docs.scipy.org/doc/numpy/reference/routines.linalg.html). Izračunajte težine $\\mathbf{w}$ modela linearne regresije kao $\\mathbf{w}=(\\mathbf{\\Phi}^\\intercal\\mathbf{\\Phi})^{-1}\\mathbf{\\Phi}^\\intercal\\mathbf{y}$. Zatim se uvjerite da isti rezultat možete dobiti izračunom pseudoinverza $\\mathbf{\\Phi}^+$ dizajn-matrice, tj. $\\mathbf{w}=\\mathbf{\\Phi}^+\\mathbf{y}$, korištenjem funkcije [`pinv`](http://docs.scipy.org/doc/numpy/reference/generated/numpy.linalg.pinv.html)."
   ]
  },
  {
   "cell_type": "code",
   "execution_count": 4,
   "metadata": {
    "collapsed": true
   },
   "outputs": [],
   "source": [
    "from numpy import linalg"
   ]
  },
  {
   "cell_type": "code",
   "execution_count": 5,
   "metadata": {
    "collapsed": false
   },
   "outputs": [
    {
     "name": "stdout",
     "output_type": "stream",
     "text": [
      "[ 2.2         0.45714286] [ 2.2         0.45714286]\n"
     ]
    }
   ],
   "source": [
    "w1 = linalg.inv(feat.transpose().dot(feat)).dot(feat.transpose()).dot(y)\n",
    "w2 = linalg.pinv(feat).dot(y)\n",
    "print w1, w2"
   ]
  },
  {
   "cell_type": "markdown",
   "metadata": {},
   "source": [
    "Radi jasnoće, u nastavku je vektor $\\mathbf{x}$ s dodanom *dummy* jedinicom $x_0=1$ označen kao $\\tilde{\\mathbf{x}}$."
   ]
  },
  {
   "cell_type": "markdown",
   "metadata": {},
   "source": [
    "### (c)"
   ]
  },
  {
   "cell_type": "markdown",
   "metadata": {},
   "source": [
    "Prikažite primjere iz $\\mathcal{D}$ i funkciju $h(\\tilde{\\mathbf{x}})=\\mathbf{w}^\\intercal\\tilde{\\mathbf{x}}$. Izračunajte pogrešku učenja prema izrazu $E(h|\\mathcal{D})=\\frac{1}{2}\\sum_{i=1}^N(\\tilde{\\mathbf{x}}^{(i)} - h(\\tilde{\\mathbf{x}}))^2$. Možete koristiti funkciju srednje kvadratne pogreške [`mean_squared_error`]( http://scikit-learn.org/stable/modules/generated/sklearn.metrics.mean_squared_error.html#sklearn.metrics.mean_squared_error) iz modula [`sklearn.metrics`](http://scikit-learn.org/stable/modules/classes.html#module-sklearn.metrics).\n",
    "\n",
    "**Q:** Gore definirana funkcija pogreške $E(h|\\mathcal{D})$ i funkcija srednje kvadratne pogreške nisu posve identične. U čemu je razlika? Koja je \"realnija\"?"
   ]
  },
  {
   "cell_type": "code",
   "execution_count": 6,
   "metadata": {
    "collapsed": false
   },
   "outputs": [
    {
     "name": "stdout",
     "output_type": "stream",
     "text": [
      "[ 2.2         0.45714286]\n"
     ]
    },
    {
     "data": {
      "text/plain": [
       "[<matplotlib.lines.Line2D at 0x8fa5198>]"
      ]
     },
     "execution_count": 6,
     "metadata": {},
     "output_type": "execute_result"
    },
    {
     "data": {
      "image/png": "[encoded data removed]",
      "text/plain": [
       "<matplotlib.figure.Figure at 0x8fb3ac8>"
      ]
     },
     "metadata": {},
     "output_type": "display_data"
    }
   ],
   "source": [
    "#b = np.ones(N);\n",
    "#X_1 = np.hstack([b, X]); print X_1\n",
    "plt.scatter(X,y)\n",
    "from sklearn.metrics import mean_squared_error\n",
    "print w1\n",
    "E = mean_squared_error(y, feat.dot(w1))\n",
    "plt.plot(X, feat.dot(w1), c='g')"
   ]
  },
  {
   "cell_type": "markdown",
   "metadata": {},
   "source": [
    "### (d)"
   ]
  },
  {
   "cell_type": "markdown",
   "metadata": {},
   "source": [
    "Uvjerite se da za primjere iz $\\mathcal{D}$ težine $\\mathbf{w}$ ne možemo naći rješavanjem sustava $\\mathbf{w}=\\mathbf{\\Phi}^{-1}\\mathbf{y}$, već da nam doista treba pseudoinverz.\n",
    "\n",
    "**Q:** Zašto je to slučaj? Bi li se problem mogao riješiti preslikavanjem primjera u višu dimenziju? Ako da, bi li to uvijek funkcioniralo, neovisno o skupu primjera $\\mathcal{D}$? Pokažite na primjeru."
   ]
  },
  {
   "cell_type": "code",
   "execution_count": 7,
   "metadata": {
    "collapsed": false
   },
   "outputs": [
    {
     "name": "stdout",
     "output_type": "stream",
     "text": [
      "(4L, 2L) (4L,)\n"
     ]
    },
    {
     "ename": "LinAlgError",
     "evalue": "Last 2 dimensions of the array must be square",
     "output_type": "error",
     "traceback": [
      "\u001b[0;31m---------------------------------------------------------------------\u001b[0m",
      "\u001b[0;31mLinAlgError\u001b[0m                         Traceback (most recent call last)",
      "\u001b[0;32m<ipython-input-7-ef003bcab06d>\u001b[0m in \u001b[0;36m<module>\u001b[0;34m()\u001b[0m\n\u001b[1;32m      1\u001b[0m \u001b[1;32mprint\u001b[0m \u001b[0mfeat\u001b[0m\u001b[1;33m.\u001b[0m\u001b[0mshape\u001b[0m\u001b[1;33m,\u001b[0m \u001b[0my\u001b[0m\u001b[1;33m.\u001b[0m\u001b[0mshape\u001b[0m\u001b[1;33m\u001b[0m\u001b[0m\n\u001b[0;32m----> 2\u001b[0;31m \u001b[0mw3\u001b[0m \u001b[1;33m=\u001b[0m \u001b[0mlinalg\u001b[0m\u001b[1;33m.\u001b[0m\u001b[0minv\u001b[0m\u001b[1;33m(\u001b[0m\u001b[0mfeat\u001b[0m\u001b[1;33m)\u001b[0m\u001b[1;33m.\u001b[0m\u001b[0mdot\u001b[0m\u001b[1;33m(\u001b[0m\u001b[0my\u001b[0m\u001b[1;33m)\u001b[0m\u001b[1;33m\u001b[0m\u001b[0m\n\u001b[0m\u001b[1;32m      3\u001b[0m \u001b[1;32mprint\u001b[0m \u001b[0mw3\u001b[0m\u001b[1;33m\u001b[0m\u001b[0m\n",
      "\u001b[0;32mC:\\Users\\luxn\\Anaconda2\\lib\\site-packages\\numpy\\linalg\\linalg.pyc\u001b[0m in \u001b[0;36minv\u001b[0;34m(a)\u001b[0m\n\u001b[1;32m    515\u001b[0m     \u001b[0ma\u001b[0m\u001b[1;33m,\u001b[0m \u001b[0mwrap\u001b[0m \u001b[1;33m=\u001b[0m \u001b[0m_makearray\u001b[0m\u001b[1;33m(\u001b[0m\u001b[0ma\u001b[0m\u001b[1;33m)\u001b[0m\u001b[1;33m\u001b[0m\u001b[0m\n\u001b[1;32m    516\u001b[0m     \u001b[0m_assertRankAtLeast2\u001b[0m\u001b[1;33m(\u001b[0m\u001b[0ma\u001b[0m\u001b[1;33m)\u001b[0m\u001b[1;33m\u001b[0m\u001b[0m\n\u001b[0;32m--> 517\u001b[0;31m     \u001b[0m_assertNdSquareness\u001b[0m\u001b[1;33m(\u001b[0m\u001b[0ma\u001b[0m\u001b[1;33m)\u001b[0m\u001b[1;33m\u001b[0m\u001b[0m\n\u001b[0m\u001b[1;32m    518\u001b[0m     \u001b[0mt\u001b[0m\u001b[1;33m,\u001b[0m \u001b[0mresult_t\u001b[0m \u001b[1;33m=\u001b[0m \u001b[0m_commonType\u001b[0m\u001b[1;33m(\u001b[0m\u001b[0ma\u001b[0m\u001b[1;33m)\u001b[0m\u001b[1;33m\u001b[0m\u001b[0m\n\u001b[1;32m    519\u001b[0m \u001b[1;33m\u001b[0m\u001b[0m\n",
      "\u001b[0;32mC:\\Users\\luxn\\Anaconda2\\lib\\site-packages\\numpy\\linalg\\linalg.pyc\u001b[0m in \u001b[0;36m_assertNdSquareness\u001b[0;34m(*arrays)\u001b[0m\n\u001b[1;32m    210\u001b[0m     \u001b[1;32mfor\u001b[0m \u001b[0ma\u001b[0m \u001b[1;32min\u001b[0m \u001b[0marrays\u001b[0m\u001b[1;33m:\u001b[0m\u001b[1;33m\u001b[0m\u001b[0m\n\u001b[1;32m    211\u001b[0m         \u001b[1;32mif\u001b[0m \u001b[0mmax\u001b[0m\u001b[1;33m(\u001b[0m\u001b[0ma\u001b[0m\u001b[1;33m.\u001b[0m\u001b[0mshape\u001b[0m\u001b[1;33m[\u001b[0m\u001b[1;33m-\u001b[0m\u001b[1;36m2\u001b[0m\u001b[1;33m:\u001b[0m\u001b[1;33m]\u001b[0m\u001b[1;33m)\u001b[0m \u001b[1;33m!=\u001b[0m \u001b[0mmin\u001b[0m\u001b[1;33m(\u001b[0m\u001b[0ma\u001b[0m\u001b[1;33m.\u001b[0m\u001b[0mshape\u001b[0m\u001b[1;33m[\u001b[0m\u001b[1;33m-\u001b[0m\u001b[1;36m2\u001b[0m\u001b[1;33m:\u001b[0m\u001b[1;33m]\u001b[0m\u001b[1;33m)\u001b[0m\u001b[1;33m:\u001b[0m\u001b[1;33m\u001b[0m\u001b[0m\n\u001b[0;32m--> 212\u001b[0;31m             \u001b[1;32mraise\u001b[0m \u001b[0mLinAlgError\u001b[0m\u001b[1;33m(\u001b[0m\u001b[1;34m'Last 2 dimensions of the array must be square'\u001b[0m\u001b[1;33m)\u001b[0m\u001b[1;33m\u001b[0m\u001b[0m\n\u001b[0m\u001b[1;32m    213\u001b[0m \u001b[1;33m\u001b[0m\u001b[0m\n\u001b[1;32m    214\u001b[0m \u001b[1;32mdef\u001b[0m \u001b[0m_assertFinite\u001b[0m\u001b[1;33m(\u001b[0m\u001b[1;33m*\u001b[0m\u001b[0marrays\u001b[0m\u001b[1;33m)\u001b[0m\u001b[1;33m:\u001b[0m\u001b[1;33m\u001b[0m\u001b[0m\n",
      "\u001b[0;31mLinAlgError\u001b[0m: Last 2 dimensions of the array must be square"
     ]
    }
   ],
   "source": [
    "print feat.shape, y.shape\n",
    "w3 = linalg.inv(feat).dot(y)\n",
    "print w3"
   ]
  },
  {
   "cell_type": "markdown",
   "metadata": {},
   "source": [
    "### (e) "
   ]
  },
  {
   "cell_type": "markdown",
   "metadata": {},
   "source": [
    "Proučite klasu [`LinearRegression`](http://scikit-learn.org/stable/modules/generated/sklearn.linear_model.LinearRegression.html#sklearn.linear_model.LinearRegression) iz modula [`sklearn.linear_model`](http://scikit-learn.org/stable/modules/classes.html#module-sklearn.linear_model). Uvjerite se da su težine koje izračunava ta funkcija (dostupne pomoću atributa `coef_` i `intercept_`) jednake onima koje ste izračunali gore. Izračunajte predikcije modela (metoda `predict`) i uvjerite se da je pogreška učenja identična onoj koju ste ranije izračunali."
   ]
  },
  {
   "cell_type": "code",
   "execution_count": 8,
   "metadata": {
    "collapsed": false
   },
   "outputs": [],
   "source": [
    "from sklearn.linear_model import LinearRegression\n",
    "from sklearn.metrics import mean_squared_error"
   ]
  },
  {
   "cell_type": "code",
   "execution_count": 9,
   "metadata": {
    "collapsed": false
   },
   "outputs": [
    {
     "name": "stdout",
     "output_type": "stream",
     "text": [
      "[ 0.45714286] 2.2\n"
     ]
    },
    {
     "data": {
      "text/plain": [
       "[<matplotlib.lines.Line2D at 0x9a7b828>]"
      ]
     },
     "execution_count": 9,
     "metadata": {},
     "output_type": "execute_result"
    },
    {
     "data": {
      "image/png": "[encoded data removed]",
      "text/plain": [
       "<matplotlib.figure.Figure at 0x9e6dfd0>"
      ]
     },
     "metadata": {},
     "output_type": "display_data"
    }
   ],
   "source": [
    "model = LinearRegression()\n",
    "model.fit(X, y)\n",
    "print model.coef_, model.intercept_\n",
    "h1 = model.predict(X)\n",
    "E = mean_squared_error(y, h1)\n",
    "plt.scatter(X, y)\n",
    "plt.plot(X, h1, c='g')"
   ]
  },
  {
   "cell_type": "markdown",
   "metadata": {},
   "source": [
    "### 2. Polinomijalna regresija i utjecaj šuma"
   ]
  },
  {
   "cell_type": "markdown",
   "metadata": {},
   "source": [
    "### (a)\n",
    "\n",
    "Razmotrimo sada regresiju na većem broju primjera. Definirajte funkciju `make_labels(X, f, noise=0)` koja uzima matricu neoznačenih primjera $\\mathbf{X}_{N\\times n}$ te generira vektor njihovih oznaka $\\mathbf{y}_{N\\times 1}$. Oznake se generiraju kao $y^{(i)} = f(x^{(i)})+\\mathcal{N}(0,\\sigma^2)$, gdje je $f:\\mathbb{R}^n\\to\\mathbb{R}$ stvarna funkcija koja je generirala podatke (koja nam je u stvarnosti nepoznata), a $\\sigma$ je standardna devijacija Gaussovog šuma, definirana parametrom `noise`. Za generiranje šuma možete koristiti funkciju [`numpy.random.normal`](http://docs.scipy.org/doc/numpy/reference/generated/numpy.random.normal.html). \n",
    "\n",
    "Generirajte skup za učenje od $N=50$ primjera uniformno distribuiranih u intervalu $[-5,5]$ pomoću funkcije $f(x) = 5 + x -2 x^2 -5 x^3$ uz šum  $\\sigma=200$:"
   ]
  },
  {
   "cell_type": "code",
   "execution_count": 49,
   "metadata": {
    "collapsed": false
   },
   "outputs": [],
   "source": [
    "from numpy.random import normal"
   ]
  },
  {
   "cell_type": "code",
   "execution_count": 90,
   "metadata": {
    "collapsed": false,
    "scrolled": true
   },
   "outputs": [
    {
     "name": "stdout",
     "output_type": "stream",
     "text": [
      "[-3.25838523  0.77777191  4.68923603  1.20871713 -2.98372443  4.92898979\n",
      " -2.06071899  0.69142221  3.04700725  4.28839921 -2.06507583 -3.94997846\n",
      "  1.72346508  2.9182879   1.10771001  0.10388465 -1.62125552 -3.21464145\n",
      " -3.29067578  0.84840212  1.22096759 -3.3240283  -4.89085685  3.48168561\n",
      " -4.63323578 -2.17574759 -0.80958462 -3.11746435 -2.02815805 -3.95622408\n",
      " -1.98468865  4.9257048   3.97146521 -1.24018407 -1.3448894  -0.43729355\n",
      " -3.27022265 -1.66810795 -1.17414426 -0.14320779  1.10368337  1.83739058\n",
      " -0.01075678  1.46099173 -0.69167618 -3.506909   -0.30117989 -3.01828876\n",
      " -4.5324003   2.69212775]\n",
      "[-4.89085685 -4.63323578 -4.5324003  -3.95622408 -3.94997846 -3.506909\n",
      " -3.3240283  -3.29067578 -3.27022265 -3.25838523 -3.21464145 -3.11746435\n",
      " -3.01828876 -2.98372443 -2.17574759 -2.06507583 -2.06071899 -2.02815805\n",
      " -1.98468865 -1.66810795 -1.62125552 -1.3448894  -1.24018407 -1.17414426\n",
      " -0.80958462 -0.69167618 -0.43729355 -0.30117989 -0.14320779 -0.01075678\n",
      "  0.10388465  0.69142221  0.77777191  0.84840212  1.10368337  1.10771001\n",
      "  1.20871713  1.22096759  1.46099173  1.72346508  1.83739058  2.69212775\n",
      "  2.9182879   3.04700725  3.48168561  3.97146521  4.28839921  4.68923603\n",
      "  4.9257048   4.92898979]\n",
      "[ 450.19296669  421.77682206   94.51245901  627.08443608  487.41302566\n",
      "  -38.5731257   268.41670253  354.96738111 -327.83963138   62.49433733\n",
      "  -25.38703872  203.4647946   174.60292312  329.98727917  326.34719562\n",
      "  149.91068983  165.45941772   72.44246059  -19.4782933   -10.4529883\n",
      " -243.85681552 -279.78852075   32.01644699  369.61093257 -219.87288724\n",
      "  175.12237498 -272.50953743 -166.78864535 -153.21772689 -279.05033844\n",
      "  -20.57837544 -201.29277772  212.35198467  -42.67258095  230.9756059\n",
      " -277.29530681  -20.47419439 -298.06015583  163.42797061 -183.61328809\n",
      " -667.71839324 -166.25872569  190.63808622 -230.45935717  -65.13798115\n",
      "  -53.65695608 -296.54761513 -674.59619224 -611.17434068 -279.22402783]\n"
     ]
    }
   ],
   "source": [
    "def make_labels(X, f, noise=0):\n",
    "    return f(X) + normal(0.0, noise, X.shape)\n",
    "\n",
    "\n",
    "def f(x):\n",
    "    return 5 + x - 2*x**2 - 5*x**3\n",
    "\n",
    "X = numpy.random.uniform(-5,5,50)\n",
    "print X\n",
    "X = np.sort(X, axis = 0)\n",
    "print X\n",
    "y = make_labels(X, f, 200)\n",
    "print y"
   ]
  },
  {
   "cell_type": "markdown",
   "metadata": {},
   "source": [
    "Prikažite taj skup funkcijom [`scatter`](http://matplotlib.org/api/pyplot_api.html#matplotlib.pyplot.scatter)."
   ]
  },
  {
   "cell_type": "code",
   "execution_count": 91,
   "metadata": {
    "collapsed": false
   },
   "outputs": [
    {
     "data": {
      "text/plain": [
       "<matplotlib.collections.PathCollection at 0x130c9ac8>"
      ]
     },
     "execution_count": 91,
     "metadata": {},
     "output_type": "execute_result"
    },
    {
     "data": {
      "image/png": "[encoded data removed]",
      "text/plain": [
       "<matplotlib.figure.Figure at 0x132c1cc0>"
      ]
     },
     "metadata": {},
     "output_type": "display_data"
    }
   ],
   "source": [
    "plt.scatter(X,y)"
   ]
  },
  {
   "cell_type": "markdown",
   "metadata": {},
   "source": [
    "### (b)"
   ]
  },
  {
   "cell_type": "markdown",
   "metadata": {},
   "source": [
    "Trenirajte model polinomijalne regresije stupnja $d=3$. Na istom grafikonu prikažite naučeni model $h(\\mathbf{x})=\\mathbf{w}^\\intercal\\tilde{\\mathbf{x}}$ i primjere za učenje. Izračunajte pogrešku učenja modela."
   ]
  },
  {
   "cell_type": "code",
   "execution_count": 92,
   "metadata": {
    "collapsed": false,
    "scrolled": false
   },
   "outputs": [
    {
     "name": "stdout",
     "output_type": "stream",
     "text": [
      "46360.6313346\n"
     ]
    },
    {
     "data": {
      "text/plain": [
       "[<matplotlib.lines.Line2D at 0x11e18f98>]"
      ]
     },
     "execution_count": 92,
     "metadata": {},
     "output_type": "execute_result"
    },
    {
     "data": {
      "image/png": "[encoded data removed]",
      "text/plain": [
       "<matplotlib.figure.Figure at 0x13c3e7f0>"
      ]
     },
     "metadata": {},
     "output_type": "display_data"
    }
   ],
   "source": [
    "from sklearn.linear_model import LinearRegression\n",
    "from sklearn.preprocessing import PolynomialFeatures\n",
    "from numpy import linalg\n",
    "from sklearn.metrics import mean_squared_error\n",
    "\n",
    "feat = PolynomialFeatures(3, include_bias = False)\n",
    "X = X.reshape(X.shape[0], 1)\n",
    "fi = feat.fit_transform(X)\n",
    "\n",
    "model = LinearRegression()\n",
    "model.fit(fi, y)\n",
    "h_ = model.predict(fi)\n",
    "E = mean_squared_error(y, h_)\n",
    "print E\n",
    "plt.scatter(X, y)\n",
    "plt.plot(X, h_, c='g')"
   ]
  },
  {
   "cell_type": "markdown",
   "metadata": {},
   "source": [
    "### 3. Odabir modela"
   ]
  },
  {
   "cell_type": "markdown",
   "metadata": {},
   "source": [
    "### (a)\n",
    "\n",
    "Na skupu podataka iz zadatka 2 trenirajte pet modela linearne regresije $\\mathcal{H}_d$ različite složenosti, gdje je $d$ stupanj polinoma, $d\\in\\{1,3,5,10,20\\}$. Prikažite na istome grafikonu skup za učenje i funkcije $h_d(\\mathbf{x})$ za svih pet modela (preporučujemo koristiti `plot` unutar `for` petlje). Izračunajte pogrešku učenja svakog od modela.\n",
    "\n",
    "**Q:** Koji model ima najmanju pogrešku učenja i zašto?"
   ]
  },
  {
   "cell_type": "code",
   "execution_count": 109,
   "metadata": {
    "collapsed": false
   },
   "outputs": [
    {
     "name": "stdout",
     "output_type": "stream",
     "text": [
      "Error d = 1: 43449.0195168\n",
      "Error d = 3: 27771.2443633\n",
      "Error d = 5: 26328.2735346\n",
      "Error d = 10: 24746.0478709\n",
      "Error d = 20: 19064.092917\n"
     ]
    },
    {
     "data": {
      "image/png": "[encoded data removed]",
      "text/plain": [
       "<matplotlib.figure.Figure at 0x12e23898>"
      ]
     },
     "metadata": {},
     "output_type": "display_data"
    }
   ],
   "source": [
    "from sklearn.linear_model import LinearRegression\n",
    "from sklearn.preprocessing import PolynomialFeatures\n",
    "from numpy import linalg\n",
    "from sklearn.metrics import mean_squared_error\n",
    "\n",
    "feat1 = PolynomialFeatures(1, include_bias = False)\n",
    "feat3 = PolynomialFeatures(3, include_bias = False)\n",
    "feat5 = PolynomialFeatures(5, include_bias = False)\n",
    "feat10 = PolynomialFeatures(10, include_bias = False)\n",
    "feat20 = PolynomialFeatures(20, include_bias = False)\n",
    "\n",
    "X = X.reshape(X.shape[0], 1)\n",
    "X.sort(axis = 0)\n",
    "\n",
    "fi_1 = feat1.fit_transform(X)\n",
    "fi_3 = feat3.fit_transform(X)\n",
    "fi_5 = feat5.fit_transform(X)\n",
    "fi_10 = feat10.fit_transform(X)\n",
    "fi_20 = feat20.fit_transform(X)\n",
    "\n",
    "model1 = LinearRegression()\n",
    "model1.fit(fi_1, y)\n",
    "h_1 = model1.predict(fi_1)\n",
    "E_1 = mean_squared_error(y, h_1)\n",
    "\n",
    "model3 = LinearRegression()\n",
    "model3.fit(fi_3, y)\n",
    "h_3 = model3.predict(fi_3)\n",
    "E_3 = mean_squared_error(y, h_3)\n",
    "\n",
    "model5 = LinearRegression()\n",
    "model5.fit(fi_5, y)\n",
    "h_5 = model5.predict(fi_5)\n",
    "E_5 = mean_squared_error(y, h_5)\n",
    "\n",
    "model10 = LinearRegression()\n",
    "model10.fit(fi_10, y)\n",
    "h_10 = model10.predict(fi_10)\n",
    "E_10 = mean_squared_error(y, h_10)\n",
    "\n",
    "model20 = LinearRegression()\n",
    "model20.fit(fi_20, y)\n",
    "h_20 = model20.predict(fi_20)\n",
    "E_20 = mean_squared_error(y, h_20)\n",
    "\n",
    "print 'Error d = 1: {}'.format(E_1)\n",
    "print 'Error d = 3: {}'.format(E_3)\n",
    "print 'Error d = 5: {}'.format(E_5)\n",
    "print 'Error d = 10: {}'.format(E_10)\n",
    "print 'Error d = 20: {}'.format(E_20)\n",
    "\n",
    "plt.scatter(X, y)\n",
    "plt.plot(X, h_1, c='g', label = 'd = 1')\n",
    "plt.plot(X, h_3, c='r', label = 'd = 3')\n",
    "plt.plot(X, h_5, c='y', label = 'd = 5')\n",
    "plt.plot(X, h_10, c='k', label = 'd = 10')\n",
    "plt.plot(X, h_20, c='c', label = 'd = 20')\n",
    "\n",
    "plt.legend(loc=\"lower left\", fontsize = 'small')\n",
    "plt.show()"
   ]
  },
  {
   "cell_type": "markdown",
   "metadata": {},
   "source": [
    "### (b)"
   ]
  },
  {
   "cell_type": "markdown",
   "metadata": {},
   "source": [
    "Razdvojite skup primjera iz zadatka 2 pomoću funkcije [`cross_validation.train_test_split`](http://scikit-learn.org/stable/modules/generated/sklearn.cross_validation.train_test_split.html#sklearn.cross_validation.train_test_split) na skup za učenja i skup za ispitivanje u omjeru 1:1. Prikažite na jednom grafikonu pogrešku učenja i ispitnu pogrešku za modele polinomijalne regresije $\\mathcal{H}_d$, sa stupnjem polinoma $d$ u rasponu $d\\in\\{1,20\\}$. Radi preciznosti, funkcije $h(\\mathbf{x})$ iscrtajte na cijelom skupu primjera (ali pogrešku generalizacije računajte, naravno, samo na ispitnome skupu). Budući da kvadratna pogreška brzo raste za veće stupnjeve polinoma, umjesto da iscrtate izravno iznose pogrešaka, iscrtajte njihove logaritme.\n",
    "\n",
    "**NB:** Podjela na skupa za učenje i skup za ispitivanje mora za svih pet modela biti identična.\n",
    "\n",
    "**Q:** Je li rezultat u skladu s očekivanjima? Koji biste model odabrali i zašto?\n",
    "\n",
    "**Q:** Pokrenite iscrtavanje više puta. U čemu je problem? Bi li problem bio jednako izražen kad bismo imali više primjera? Zašto?"
   ]
  },
  {
   "cell_type": "code",
   "execution_count": 94,
   "metadata": {
    "collapsed": false
   },
   "outputs": [],
   "source": [
    "from sklearn import cross_validation"
   ]
  },
  {
   "cell_type": "code",
   "execution_count": 106,
   "metadata": {
    "collapsed": false,
    "scrolled": false
   },
   "outputs": [
    {
     "name": "stdout",
     "output_type": "stream",
     "text": [
      "(25L, 1L) (25L, 1L) (25L, 1L) (25L, 1L)\n"
     ]
    },
    {
     "data": {
      "image/png": "[encoded data removed]",
      "text/plain": [
       "<matplotlib.figure.Figure at 0x132d0470>"
      ]
     },
     "metadata": {},
     "output_type": "display_data"
    },
    {
     "name": "stdout",
     "output_type": "stream",
     "text": [
      "[ 11.19553662  11.27383294  10.87281188  10.84344952  10.84570117\n",
      "  10.81201741  11.37157979  10.9795175   12.54326425  16.28707203\n",
      "  19.91064709  21.98176919  23.27575943  24.72757895  25.50145358\n",
      "  33.81822075  34.49802427  41.19108034  42.54221188  43.16239507]\n",
      "[ 10.7863313   10.4183263    9.99862532   9.97532891   9.9084296\n",
      "   9.90708929   9.71398221   9.70460862   9.67291844   9.6248227\n",
      "   9.52519795   9.50906622   9.5076135    9.50610244   9.50129174\n",
      "   9.37714715   9.33261686   9.07061194   8.93078401   8.92023358]\n"
     ]
    }
   ],
   "source": [
    "X_train, X_test = cross_validation.train_test_split(X, test_size=0.5)\n",
    "\n",
    "y_train = make_labels(X_train, f, 200)\n",
    "y_test = make_labels(X_test, f, 200)\n",
    "print X_train.shape, y_train.shape, X_test.shape, y_test.shape\n",
    "\n",
    "Err_train = np.empty(20)\n",
    "Err_test = np.empty(20)\n",
    "#print Err_train, Err_test\n",
    "\n",
    "j = range(20)\n",
    "\n",
    "for i in range(20):\n",
    "    feat = PolynomialFeatures(i+1, include_bias = False)\n",
    "    fi_train = feat.fit_transform(X_train)\n",
    "    fi_test = feat.fit_transform(X_test)\n",
    "\n",
    "    model = LinearRegression()\n",
    "    \n",
    "    #train\n",
    "    model.fit(fi_train, y_train)\n",
    "    h_1 = model.predict(fi_train)\n",
    "    Err_train[i] = np.log(mean_squared_error(y_train, h_1))\n",
    "    \n",
    "    #test\n",
    "    h_2 = model.predict(fi_test)\n",
    "    Err_test[i] = np.log(mean_squared_error(y_test, h_2))\n",
    "    \n",
    "plt.plot(j, Err_train[j], c='b', label='train')\n",
    "plt.plot(j, Err_test[j], c='r', label='test')\n",
    "\n",
    "plt.legend(loc='upper left')\n",
    "plt.show()\n",
    "\n",
    "print Err_test\n",
    "print Err_train\n"
   ]
  },
  {
   "cell_type": "markdown",
   "metadata": {},
   "source": [
    "### (c)"
   ]
  },
  {
   "cell_type": "markdown",
   "metadata": {},
   "source": [
    "Točnost modela ovisi o (1) njegovoj složenosti (stupanj $d$ polinoma), (2) broju primjera $N$, i (3) količini šuma. Kako biste to analizirali, nacrtajte grafikone pogrešaka kao u 3b, ali za sve kombinacija broja primjera $N\\in\\{100,200,1000\\}$ i količine šuma $\\sigma\\in\\{100,200,500\\}$ (ukupno 9 grafikona). Upotrijebite funkciju [`subplots`](http://matplotlib.org/examples/pylab_examples/subplots_demo.html) kako biste pregledno posložili grafikone u tablicu $3\\times 3$. Podatci se generiraju na isti način kao u zadatku 2.\n",
    "\n",
    "**NB:** Pobrinite se da svi grafikoni budu generirani nad usporedivim skupovima podataka, na sljedeći način. Generirajte najprije svih 1000 primjera, podijelite ih na skupove za učenje i skupove za ispitivanje (dva skupa od po 500 primjera). Zatim i od skupa za učenje i od skupa za ispitivanje načinite tri različite verzije, svaka s drugačijom količinom šuma (ukupno 2x3=6 verzija podataka). Kako bi simulirali veličinu skupa podataka, od tih dobivenih 6 skupova podataka uzorkujte trećinu, dvije trećine i sve podatke. Time ste dobili 18 skupova podataka -- skup za učenje i za testiranje za svaki od devet grafova."
   ]
  },
  {
   "cell_type": "markdown",
   "metadata": {},
   "source": [
    "***Q:*** Jesu li rezultati očekivani? Obrazložite."
   ]
  },
  {
   "cell_type": "code",
   "execution_count": 110,
   "metadata": {
    "collapsed": false
   },
   "outputs": [
    {
     "name": "stdout",
     "output_type": "stream",
     "text": [
      "(50L, 1L) (50L, 1L)\n",
      "(100L, 1L) (100L, 1L)\n",
      "(50L, 1L) (50L, 1L)\n"
     ]
    },
    {
     "data": {
      "text/plain": [
       "[<matplotlib.lines.Line2D at 0x1506ed30>]"
      ]
     },
     "execution_count": 110,
     "metadata": {},
     "output_type": "execute_result"
    },
    {
     "data": {
      "image/png": "[encoded data removed]",
      "text/plain": [
       "<matplotlib.figure.Figure at 0x13551c18>"
      ]
     },
     "metadata": {},
     "output_type": "display_data"
    }
   ],
   "source": [
    "from sklearn.preprocessing import PolynomialFeatures\n",
    "from sklearn.linear_model import LinearRegression\n",
    "\n",
    "# N = 100\n",
    "X = numpy.random.uniform(-5,5,100)\n",
    "X_train, X_test = cross_validation.train_test_split(X, test_size=0.5)\n",
    "X_train = X_train.reshape(X_train.shape[0], 1)\n",
    "X_train.sort(axis = 0)\n",
    "X_test = X_test.reshape(X_test.shape[0], 1)\n",
    "X_test.sort(axis = 0)\n",
    "print X_train.shape, X_test.shape\n",
    "\n",
    "y_train_100 = make_labels(X_train, f, 100)\n",
    "y_train_200 = make_labels(X_train, f, 200)\n",
    "y_train_500 = make_labels(X_train, f, 500)\n",
    "y_test_100 = make_labels(X_test, f, 100)\n",
    "y_test_200 = make_labels(X_test, f, 200)\n",
    "y_test_500 = make_labels(X_test, f, 500)\n",
    "\n",
    "fig, subpl = plt.subplots(3, 3, sharex = True, sharey = True)\n",
    "Err_train = np.empty(20) \n",
    "Err_test = np.empty(20)\n",
    "\n",
    "def regression(d, X_train, y_train, X_test, y_test, Err_train, Err_test):\n",
    "    for i in range(d):\n",
    "        feat = PolynomialFeatures(i+1, include_bias = False)\n",
    "        fi_train = feat.fit_transform(X_train)\n",
    "        fi_test = feat.fit_transform(X_test)\n",
    "\n",
    "        model = LinearRegression()\n",
    "    \n",
    "        #Err_train = np.empty(20)\n",
    "        #Err_test = np.empty(20)\n",
    "    \n",
    "        #train\n",
    "        model.fit(fi_train, y_train)\n",
    "        h_1 = model.predict(fi_train)\n",
    "        Err_train[i] = np.log(mean_squared_error(y_train, h_1))\n",
    "    \n",
    "        #test\n",
    "        h_2 = model.predict(fi_test)\n",
    "        Err_test[i] = np.log(mean_squared_error(y_test, h_2))\n",
    "        \n",
    "    return Err_train, Err_test\n",
    "        \n",
    "Err_train, Err_test = regression(20, X_train, y_train_100, X_test, y_test_100, Err_train, Err_test)\n",
    "subpl[0,0].plot(j, Err_train[j], c='b', label='train')\n",
    "subpl[0,0].plot(j, Err_test[j], c='r', label='test')\n",
    "\n",
    "Err_train, Err_test = regression(20, X_train, y_train_200, X_test, y_test_200, Err_train, Err_test)\n",
    "subpl[0,1].plot(j, Err_train[j], c='b', label='train')\n",
    "subpl[0,1].plot(j, Err_test[j], c='r', label='test')\n",
    "\n",
    "Err_train, Err_test = regression(20, X_train, y_train_500, X_test, y_test_500, Err_train, Err_test)\n",
    "subpl[0,2].plot(j, Err_train[j], c='b', label='train')\n",
    "subpl[0,2].plot(j, Err_test[j], c='r', label='test')\n",
    "\n",
    "# N = 200\n",
    "X = numpy.random.uniform(-5,5,200)\n",
    "X_train, X_test = cross_validation.train_test_split(X, test_size=0.5)\n",
    "X_train = X_train.reshape(X_train.shape[0], 1)\n",
    "X_test = X_test.reshape(X_test.shape[0], 1)\n",
    "print X_train.shape, X_test.shape\n",
    "\n",
    "y_train_100 = make_labels(X_train, f, 100)\n",
    "y_train_200 = make_labels(X_train, f, 200)\n",
    "y_train_500 = make_labels(X_train, f, 500)\n",
    "y_test_100 = make_labels(X_test, f, 100)\n",
    "y_test_200 = make_labels(X_test, f, 200)\n",
    "y_test_500 = make_labels(X_test, f, 500)\n",
    "\n",
    "Err_train, Err_test = regression(20, X_train, y_train_100, X_test, y_test_100, Err_train, Err_test)\n",
    "subpl[1,0].plot(j, Err_train[j], c='b', label='train')\n",
    "subpl[1,0].plot(j, Err_test[j], c='r', label='test')\n",
    "\n",
    "Err_train, Err_test = regression(20, X_train, y_train_200, X_test, y_test_200, Err_train, Err_test)\n",
    "subpl[1,1].plot(j, Err_train[j], c='b', label='train')\n",
    "subpl[1,1].plot(j, Err_test[j], c='r', label='test')\n",
    "\n",
    "Err_train, Err_test = regression(20, X_train, y_train_500, X_test, y_test_500, Err_train, Err_test)\n",
    "subpl[1,2].plot(j, Err_train[j], c='b', label='train')\n",
    "subpl[1,2].plot(j, Err_test[j], c='r', label='test')\n",
    "\n",
    "# N = 1000\n",
    "X = numpy.random.uniform(-5,5,100)\n",
    "X_train, X_test = cross_validation.train_test_split(X, test_size=0.5)\n",
    "X_train = X_train.reshape(X_train.shape[0], 1)\n",
    "X_test = X_test.reshape(X_test.shape[0], 1)\n",
    "print X_train.shape, X_test.shape\n",
    "\n",
    "y_train_100 = make_labels(X_train, f, 100)\n",
    "y_train_200 = make_labels(X_train, f, 200)\n",
    "y_train_500 = make_labels(X_train, f, 500)\n",
    "y_test_100 = make_labels(X_test, f, 100)\n",
    "y_test_200 = make_labels(X_test, f, 200)\n",
    "y_test_500 = make_labels(X_test, f, 500)\n",
    "\n",
    "Err_train, Err_test = regression(20, X_train, y_train_100, X_test, y_test_100, Err_train, Err_test)\n",
    "subpl[2,0].plot(j, Err_train[j], c='b', label='train')\n",
    "subpl[2,0].plot(j, Err_test[j], c='r', label='test')\n",
    "\n",
    "Err_train, Err_test = regression(20, X_train, y_train_200, X_test, y_test_200, Err_train, Err_test)\n",
    "subpl[2,1].plot(j, Err_train[j], c='b', label='train')\n",
    "subpl[2,1].plot(j, Err_test[j], c='r', label='test')\n",
    "\n",
    "Err_train, Err_test = regression(20, X_train, y_train_500, X_test, y_test_500, Err_train, Err_test)\n",
    "subpl[2,2].plot(j, Err_train[j], c='b', label='train')\n",
    "subpl[2,2].plot(j, Err_test[j], c='r', label='test')"
   ]
  },
  {
   "cell_type": "markdown",
   "metadata": {},
   "source": [
    "### 4. Regularizirana regresija"
   ]
  },
  {
   "cell_type": "markdown",
   "metadata": {},
   "source": [
    "### (a)\n",
    "\n",
    "U gornjim eksperimentima nismo koristili **regularizaciju**. Vratimo se najprije na primjer iz zadatka 1. Na primjerima iz tog zadatka izračunajte težine $\\mathbf{w}$ za polinomijalni regresijski model stupnja $d=3$ uz L2-regularizaciju (tzv. *ridge regression*), prema izrazu $\\mathbf{w}=(\\mathbf{\\Phi}^\\intercal\\mathbf{\\Phi}+\\lambda\\mathbf{I})^{-1}\\mathbf{\\Phi}^\\intercal\\mathbf{y}$. Napravite izračun težina za regularizacijske faktore $\\lambda=0$, $\\lambda=1$ i $\\lambda=10$ te usporedite dobivene težine.\n",
    "\n",
    "**Q:** Kojih je dimenzija matrica koju treba invertirati?\n",
    "\n",
    "**Q:** Po čemu se razlikuju dobivene težine i je li ta razlika očekivana? Obrazložite."
   ]
  },
  {
   "cell_type": "code",
   "execution_count": 100,
   "metadata": {
    "collapsed": false
   },
   "outputs": [
    {
     "name": "stdout",
     "output_type": "stream",
     "text": [
      "PolynomialFeatures(degree=3, include_bias=True, interaction_only=False)\n",
      "(4L, 4L)\n",
      "[ 4.         -5.91666667  3.375      -0.45833333] [ 1.79567372 -0.24729075 -0.0175289   0.07014758] [ 0.43312265  0.11060671  0.13827839  0.03093411]\n"
     ]
    }
   ],
   "source": [
    "from sklearn.preprocessing import PolynomialFeatures\n",
    "from numpy import linalg\n",
    "\n",
    "X = np.array([[0],[1],[2],[4]])\n",
    "y = np.array([4,1,2,5])\n",
    "\n",
    "p = PolynomialFeatures(3)\n",
    "print p\n",
    "feat = p.fit_transform(X)\n",
    "\n",
    "I = np.identity(4)\n",
    "\n",
    "print feat.transpose().dot(feat).shape\n",
    "\n",
    "lam_0 = 0\n",
    "lam_1 = 1\n",
    "lam_10 = 10\n",
    "\n",
    "w_lam_0 = linalg.inv(feat.transpose().dot(feat) + I.dot(lam_0)).dot(feat.transpose()).dot(y)\n",
    "w_lam_1 = linalg.inv(feat.transpose().dot(feat) + I.dot(lam_1)).dot(feat.transpose()).dot(y)\n",
    "w_lam_10 = linalg.inv(feat.transpose().dot(feat) + I.dot(lam_10)).dot(feat.transpose()).dot(y)\n",
    "print w_lam_0, w_lam_1, w_lam_10\n"
   ]
  },
  {
   "cell_type": "markdown",
   "metadata": {},
   "source": [
    "### (b)"
   ]
  },
  {
   "cell_type": "markdown",
   "metadata": {},
   "source": [
    "Proučite klasu [`Ridge`](http://scikit-learn.org/stable/modules/generated/sklearn.linear_model.Ridge.html#sklearn.linear_model.Ridge) iz modula [`sklearn.linear_model`](http://scikit-learn.org/stable/modules/classes.html#module-sklearn.linear_model), koja implementira L2-regularizirani regresijski model. Parametar $\\alpha$ odgovara parametru $\\lambda$. Primijenite model na istim primjerima kao u prethodnom zadatku i ispišite težine $\\mathbf{w}$ (atributi `coef_` i `intercept_`).\n",
    "\n",
    "**Q:** Jesu li težine identične onima iz zadatka 4a? Ako nisu, objasnite zašto je to tako i kako biste to popravili."
   ]
  },
  {
   "cell_type": "code",
   "execution_count": 101,
   "metadata": {
    "collapsed": false
   },
   "outputs": [],
   "source": [
    "from sklearn.linear_model import Ridge"
   ]
  },
  {
   "cell_type": "code",
   "execution_count": 102,
   "metadata": {
    "collapsed": false
   },
   "outputs": [
    {
     "name": "stdout",
     "output_type": "stream",
     "text": [
      "PolynomialFeatures(degree=3, include_bias=False, interaction_only=False)\n",
      "4.0 [-5.91666667  3.375      -0.45833333]\n",
      "2.46547603694 [ 0.00384107  0.04841579  0.01499283]\n",
      "2.81675227727 [ 0.03172117  0.01261212  0.00337107]\n"
     ]
    }
   ],
   "source": [
    "p = PolynomialFeatures(3, include_bias = False)\n",
    "print p\n",
    "feat = p.fit_transform(X)\n",
    "\n",
    "# alpha = 0\n",
    "ridge = Ridge(alpha=0,normalize=True)\n",
    "ridge.fit(feat, y)\n",
    "h = ridge.predict(feat)\n",
    "print ridge.intercept_, ridge.coef_\n",
    "\n",
    "# alpha = 1\n",
    "ridge = Ridge(alpha=1,normalize=True)\n",
    "ridge.fit(feat, y)\n",
    "h = ridge.predict(feat)\n",
    "print ridge.intercept_, ridge.coef_\n",
    "\n",
    "#alpha = 10\n",
    "ridge = Ridge(alpha=10,normalize=True)\n",
    "ridge.fit(feat, y)\n",
    "h = ridge.predict(feat)\n",
    "print ridge.intercept_, ridge.coef_"
   ]
  },
  {
   "cell_type": "markdown",
   "metadata": {},
   "source": [
    "### 5. Regularizirana polinomijalna regresija"
   ]
  },
  {
   "cell_type": "markdown",
   "metadata": {},
   "source": [
    "### (a)\n",
    "\n",
    "Vratimo se na slučaj $N=50$ slučajno generiranih primjera iz zadatka 2. Trenirajte modele polinomijalne regresije $\\mathcal{H}_{\\lambda,d}$ za $\\lambda\\in\\{0,100\\}$ i $d\\in\\{2,10\\}$ (ukupno četiri modela). Skicirajte pripadne funkcije $h(\\mathbf{x})$ i primjere (na jednom grafikonu; preporučujemo koristiti `plot` unutar `for` petlje).\n",
    "\n",
    "**Q:** Jesu li rezultati očekivani? Obrazložite."
   ]
  },
  {
   "cell_type": "code",
   "execution_count": 105,
   "metadata": {
    "collapsed": false
   },
   "outputs": [
    {
     "data": {
      "image/png": "[encoded data removed]",
      "text/plain": [
       "<matplotlib.figure.Figure at 0x147fd518>"
      ]
     },
     "metadata": {},
     "output_type": "display_data"
    }
   ],
   "source": [
    "X = numpy.random.uniform(-5,5,50)\n",
    "X = np.sort(X, axis = 0)\n",
    "y = make_labels(X, f, 200)\n",
    "\n",
    "feat = PolynomialFeatures(2)\n",
    "X = X.reshape(X.shape[0], 1)\n",
    "fi = feat.fit_transform(X)\n",
    "\n",
    "I1 = np.identity(3)\n",
    "w_lam0_d2 = linalg.inv(fi.transpose().dot(fi) + I1.dot(0)).dot(fi.transpose()).dot(y)\n",
    "w_lam100_d2 = linalg.inv(fi.transpose().dot(fi) + I1.dot(100)).dot(fi.transpose()).dot(y)\n",
    "\n",
    "h1 = fi.dot(w_lam0_d2)\n",
    "h2 = fi.dot(w_lam100_d2)\n",
    "\n",
    "feat = PolynomialFeatures(20)\n",
    "X = X.reshape(X.shape[0], 1)\n",
    "fi = feat.fit_transform(X)\n",
    "\n",
    "I2 = np.identity(21)\n",
    "w_lam0_d20 = linalg.inv(fi.transpose().dot(fi) + I2.dot(0)).dot(fi.transpose()).dot(y)\n",
    "w_lam100_d20 = linalg.inv(fi.transpose().dot(fi) + I2.dot(100)).dot(fi.transpose()).dot(y)\n",
    "\n",
    "model = LinearRegression()\n",
    "model.fit(fi, y)\n",
    "plt.scatter(X, y)\n",
    "\n",
    "h3 = fi.dot(w_lam0_d20)\n",
    "h4 = fi.dot(w_lam100_d20)\n",
    "\n",
    "plt.plot(X, h1, c='g', label = 'L0, D2')\n",
    "plt.plot(X, h2, c ='b', label = 'L100, D2')\n",
    "plt.plot(X, h3, c='r', label = 'L0, D20')\n",
    "plt.plot(X, h4, c='y', label = 'L100, D20')\n",
    "plt.legend(loc='upper right', fontsize='small')\n",
    "plt.show()"
   ]
  },
  {
   "cell_type": "markdown",
   "metadata": {},
   "source": [
    "### (b)\n",
    "\n",
    "Kao u zadataku 3b, razdvojite primjere na skup za učenje i skup za ispitivanje u omjeru 1:1. Prikažite krivulje logaritama pogreške učenja i ispitne pogreške u ovisnosti za model $\\mathcal{H}_{d=20,\\lambda}$, podešavajući faktor regularizacije $\\lambda$ u rasponu $\\lambda\\in\\{0,1,\\dots,50\\}$.\n",
    "\n",
    "**Q:** Kojoj strani na grafikonu odgovara područje prenaučenosti a kojoj podnaučenosti. Zašto?\n",
    "\n",
    "**Q:** Koju biste vrijednosti za $\\lambda$ izabrali na temelju ovih grafikona i zašto?\n"
   ]
  },
  {
   "cell_type": "code",
   "execution_count": 123,
   "metadata": {
    "collapsed": false
   },
   "outputs": [
    {
     "data": {
      "text/plain": [
       "[<matplotlib.lines.Line2D at 0x168749e8>]"
      ]
     },
     "execution_count": 123,
     "metadata": {},
     "output_type": "execute_result"
    },
    {
     "data": {
      "image/png": "[encoded data removed]",
      "text/plain": [
       "<matplotlib.figure.Figure at 0x154ae198>"
      ]
     },
     "metadata": {},
     "output_type": "display_data"
    }
   ],
   "source": [
    "X = numpy.random.uniform(-5,5,50)\n",
    "y = make_labels(X, f, 200)\n",
    "\n",
    "X_train, X_test = cross_validation.train_test_split(X, test_size=0.5)\n",
    "X_train = X_train.reshape(X_train.shape[0], 1)\n",
    "X_test = X_test.reshape(X_test.shape[0], 1)\n",
    "X_train.sort(axis=0)\n",
    "X_test.sort(axis=0)\n",
    "\n",
    "y_train = make_labels(X_train, f, 200)\n",
    "y_test = make_labels(X_test, f, 200)\n",
    "\n",
    "lam = range(51)\n",
    "Err_train = []\n",
    "Err_test = []\n",
    "\n",
    "feat = PolynomialFeatures(20)\n",
    "fi_train = feat.fit_transform(X_train)\n",
    "fi_test = feat.fit_transform(X_test)\n",
    "I = np.identity(21)\n",
    "\n",
    "def model_test(l, y):\n",
    "    w = linalg.inv(fi.transpose().dot(fi) + I.dot(l)).dot(fi.transpose()).dot(y)\n",
    "    h = fi.dot(w)\n",
    "    E = np.log(mean_squared_error(y, h))\n",
    "    return E\n",
    "\n",
    "for i in lam:\n",
    "    model = Ridge(i)\n",
    "    model.fit(fi_train, y_train)\n",
    "    h_train = model.predict(fi_train)\n",
    "    h_test = model.predict(fi_test)\n",
    "    Err_train.append(log(mean_squared_error(y_train, h_train)))\n",
    "    Err_test.append(log(mean_squared_error(y_test, h_test)))\n",
    "    \n",
    "plt.plot(lam, Err_train, label='train')\n",
    "plt.plot(lam, Err_test, label='test')"
   ]
  },
  {
   "cell_type": "markdown",
   "metadata": {},
   "source": [
    "### 6. L1-regularizacija i L2-regularizacija"
   ]
  },
  {
   "cell_type": "markdown",
   "metadata": {},
   "source": [
    "Svrha regularizacije jest potiskivanje težina modela $\\mathbf{w}$ prema nuli, kako bi model bio što jednostavniji. Složenost modela može se okarakterizirati normom pripadnog vektora težina $\\mathbf{w}$, i to tipično L2-normom ili L1-normom. Za jednom trenirani model možemo izračunati i broj ne-nul značajki, ili L0-normu, pomoću sljedeće funkcije:"
   ]
  },
  {
   "cell_type": "code",
   "execution_count": 118,
   "metadata": {
    "collapsed": false
   },
   "outputs": [],
   "source": [
    "def nonzeroes(coef, tol=1e-6): \n",
    "    return len(coef) - len(coef[sp.isclose(0, coef, atol=tol)])"
   ]
  },
  {
   "cell_type": "markdown",
   "metadata": {},
   "source": [
    "### (a)\n",
    "\n",
    "Za ovaj zadatak upotrijebite skup za učenje i skup za testiranje iz zadatka 3b. Trenirajte modele **L2-regularizirane** polinomijalne regresije stupnja $d=20$, mijenjajući hiperparametar $\\lambda$ u rasponu $\\{1,2,\\dots,100\\}$. Za svaki od treniranih modela izračunajte L{0,1,2}-norme vektora težina $\\mathbf{w}$ te ih prikažite kao funkciju od $\\lambda$.\n",
    "\n",
    "**Q:** Objasnite oblik obiju krivulja. Hoće li krivulja za $\\|\\mathbf{w}\\|_2$ doseći nulu? Zašto? Je li to problem? Zašto?\n",
    "\n",
    "**Q:** Za $\\lambda=100$, koliki je postotak težina modela jednak nuli, odnosno koliko je model rijedak?"
   ]
  },
  {
   "cell_type": "code",
   "execution_count": 149,
   "metadata": {
    "collapsed": false
   },
   "outputs": [
    {
     "data": {
      "image/png": "[encoded data removed]",
      "text/plain": [
       "<matplotlib.figure.Figure at 0x178606a0>"
      ]
     },
     "metadata": {},
     "output_type": "display_data"
    }
   ],
   "source": [
    "X = uniform(-5,5,50)\n",
    "y = make_labels(X, f, 200)\n",
    "\n",
    "X_train, X_test = cross_validation.train_test_split(X, test_size=0.5)\n",
    "X_train = X_train.reshape(X_train.shape[0], 1)\n",
    "X_test = X_test.reshape(X_test.shape[0], 1)\n",
    "X_train.sort(axis=0)\n",
    "X_test.sort(axis=0)\n",
    "\n",
    "y_train = make_labels(X_train, f, 200)\n",
    "y_test = make_labels(X_test, f, 200)\n",
    "\n",
    "feat = PolynomialFeatures(20)\n",
    "fi_train = feat.fit_transform(X_train)\n",
    "fi_test = feat.fit_transform(X_test)\n",
    "\n",
    "lam = range(1, 101)\n",
    "L0_norm = []\n",
    "L1_norm = []\n",
    "L2_norm = []\n",
    "s=0\n",
    "\n",
    "for i in lam:\n",
    "    model = Ridge(i)\n",
    "    model.fit(fi_train, y_train)\n",
    "    L0_norm.append(sum([1 for w in model.coef_.flatten() if w != 0.0]))\n",
    "    L1_norm.append(linalg.norm(model.coef_, 1))\n",
    "    L2_norm.append(linalg.norm(model.coef_, 2))\n",
    "    \n",
    "plt.plot(lam, L0_norm, label='L0', c='g')\n",
    "plt.plot(lam, L1_norm, label='L1', c='r')\n",
    "plt.plot(lam, L2_norm, label='L2', c='b')\n",
    "plt.legend(loc='upper right', fontsize='small')\n",
    "plt.show()"
   ]
  },
  {
   "cell_type": "markdown",
   "metadata": {},
   "source": [
    "### (b)"
   ]
  },
  {
   "cell_type": "markdown",
   "metadata": {},
   "source": [
    "Glavna prednost L1-regularizirane regresije (ili *LASSO regression*) nad L2-regulariziranom regresijom jest u tome što L1-regularizirana regresija rezultira **rijetkim modelima** (engl. *sparse models*), odnosno modelima kod kojih su mnoge težine pritegnute na nulu. Pokažite da je to doista tako, ponovivši gornji eksperiment s **L1-regulariziranom** regresijom, implementiranom u klasi  [`Lasso`](http://scikit-learn.org/stable/modules/generated/sklearn.linear_model.Lasso.html) u modulu [`sklearn.linear_model`](http://scikit-learn.org/stable/modules/classes.html#module-sklearn.linear_model)."
   ]
  },
  {
   "cell_type": "code",
   "execution_count": 153,
   "metadata": {
    "collapsed": false
   },
   "outputs": [
    {
     "data": {
      "image/png": "[encoded data removed]",
      "text/plain": [
       "<matplotlib.figure.Figure at 0x191de4e0>"
      ]
     },
     "metadata": {},
     "output_type": "display_data"
    }
   ],
   "source": [
    "from sklearn.linear_model import Lasso\n",
    "L0_norm = []\n",
    "L1_norm = []\n",
    "L2_norm = []\n",
    "\n",
    "lam = range(1, 101)\n",
    "for i in lam:\n",
    "    model = Lasso(i)\n",
    "    model.fit(fi_train, y_train)\n",
    "    L0_norm.append(sum([1 for w in model.coef_.flatten() if w != 0.0]))\n",
    "    L1_norm.append(linalg.norm(model.coef_, 1))\n",
    "    L2_norm.append(linalg.norm(model.coef_, 2))\n",
    "    \n",
    "plt.plot(lam, L0_norm, label='L0', c='g')\n",
    "plt.plot(lam, L1_norm, label='L1', c='r')\n",
    "plt.plot(lam, L2_norm, label='L2', c='b')\n",
    "plt.legend(loc='upper right', fontsize='small')\n",
    "plt.show()"
   ]
  },
  {
   "cell_type": "markdown",
   "metadata": {},
   "source": [
    "### 7. Predviđanje cijena nekretnina u Bostonu"
   ]
  },
  {
   "cell_type": "markdown",
   "metadata": {},
   "source": [
    "Do sada smo razmatrali isključivo univarijatnu regresiju, tj. imali smo samo jednu značajku ($n=1$). U većini stvarnih problema baratamo s većim brojem značajki. Razmotrimo sada jedan nešto realniji problem, kod kojega postoji više značajki, pa je potrebno napraviti multivarijatnu regresiju.\n",
    "\n",
    "Učitajte skup podataka *Boston House Prices*:"
   ]
  },
  {
   "cell_type": "code",
   "execution_count": 154,
   "metadata": {
    "collapsed": false
   },
   "outputs": [
    {
     "name": "stdout",
     "output_type": "stream",
     "text": [
      "(506L, 13L)\n",
      "(506L,)\n"
     ]
    }
   ],
   "source": [
    "from sklearn.datasets import load_boston\n",
    "boston = load_boston()\n",
    "print boston.data.shape\n",
    "print boston.target.shape"
   ]
  },
  {
   "cell_type": "markdown",
   "metadata": {},
   "source": [
    "Skup sadrži 506 primjera sa 13 numeričkih značajki. Opis skupa možete dobiti na sljedeći način:"
   ]
  },
  {
   "cell_type": "code",
   "execution_count": 155,
   "metadata": {
    "collapsed": false
   },
   "outputs": [
    {
     "name": "stdout",
     "output_type": "stream",
     "text": [
      "Boston House Prices dataset\n",
      "\n",
      "Notes\n",
      "------\n",
      "Data Set Characteristics:  \n",
      "\n",
      "    :Number of Instances: 506 \n",
      "\n",
      "    :Number of Attributes: 13 numeric/categorical predictive\n",
      "    \n",
      "    :Median Value (attribute 14) is usually the target\n",
      "\n",
      "    :Attribute Information (in order):\n",
      "        - CRIM     per capita crime rate by town\n",
      "        - ZN       proportion of residential land zoned for lots over 25,000 sq.ft.\n",
      "        - INDUS    proportion of non-retail business acres per town\n",
      "        - CHAS     Charles River dummy variable (= 1 if tract bounds river; 0 otherwise)\n",
      "        - NOX      nitric oxides concentration (parts per 10 million)\n",
      "        - RM       average number of rooms per dwelling\n",
      "        - AGE      proportion of owner-occupied units built prior to 1940\n",
      "        - DIS      weighted distances to five Boston employment centres\n",
      "        - RAD      index of accessibility to radial highways\n",
      "        - TAX      full-value property-tax rate per $10,000\n",
      "        - PTRATIO  pupil-teacher ratio by town\n",
      "        - B        1000(Bk - 0.63)^2 where Bk is the proportion of blacks by town\n",
      "        - LSTAT    % lower status of the population\n",
      "        - MEDV     Median value of owner-occupied homes in $1000's\n",
      "\n",
      "    :Missing Attribute Values: None\n",
      "\n",
      "    :Creator: Harrison, D. and Rubinfeld, D.L.\n",
      "\n",
      "This is a copy of UCI ML housing dataset.\n",
      "http://archive.ics.uci.edu/ml/datasets/Housing\n",
      "\n",
      "\n",
      "This dataset was taken from the StatLib library which is maintained at Carnegie Mellon University.\n",
      "\n",
      "The Boston house-price data of Harrison, D. and Rubinfeld, D.L. 'Hedonic\n",
      "prices and the demand for clean air', J. Environ. Economics & Management,\n",
      "vol.5, 81-102, 1978.   Used in Belsley, Kuh & Welsch, 'Regression diagnostics\n",
      "...', Wiley, 1980.   N.B. Various transformations are used in the table on\n",
      "pages 244-261 of the latter.\n",
      "\n",
      "The Boston house-price data has been used in many machine learning papers that address regression\n",
      "problems.   \n",
      "     \n",
      "**References**\n",
      "\n",
      "   - Belsley, Kuh & Welsch, 'Regression diagnostics: Identifying Influential Data and Sources of Collinearity', Wiley, 1980. 244-261.\n",
      "   - Quinlan,R. (1993). Combining Instance-Based and Model-Based Learning. In Proceedings on the Tenth International Conference of Machine Learning, 236-243, University of Massachusetts, Amherst. Morgan Kaufmann.\n",
      "   - many more! (see http://archive.ics.uci.edu/ml/datasets/Housing)\n",
      "\n"
     ]
    }
   ],
   "source": [
    "print boston.DESCR"
   ]
  },
  {
   "cell_type": "markdown",
   "metadata": {},
   "source": [
    "### (a)"
   ]
  },
  {
   "cell_type": "markdown",
   "metadata": {},
   "source": [
    "Vaš je zadatak da izgradite regresijski model za predviđanje cijene nekretnine (`y=boston.target`) na temelju 13 raspoloživih značajki za svaku nekretninu (`X=boston.data`). Cilj je pronaći najbolji mogući linearni model regresije na ovom skupu podataka i provjeriti njegovu točnost u smislu pogreške kvadratnog odstupanja ([`mean_squared_error`]( http://scikit-learn.org/stable/modules/generated/sklearn.metrics.mean_squared_error.html#sklearn.metrics.mean_squared_error)). \n",
    "\n",
    "Hiperparametri modela koje treba isprobati su:\n",
    "\n",
    "* **Regularizacija:** Bez regularizacije ([`LinearRegression`](http://scikit-learn.org/stable/modules/generated/sklearn.linear_model.LinearRegression.html#sklearn.linear_model.LinearRegression)), L2-regularizacija ([`Ridge`](http://scikit-learn.org/stable/modules/generated/sklearn.linear_model.Ridge.html#sklearn.linear_model.Ridge)) i L1-regularizacija ([`Lasso`](http://scikit-learn.org/stable/modules/generated/sklearn.linear_model.Lasso.html#sklearn.linear_model.Lasso));\n",
    "* **Značajke:** Izvornih 13 značajki, polinomijalne značajke (isprobajte različite stupnjeve polinoma $d$), samo interakcijske značajke (opcija `interaction_only` u klasi [`PolynomialFeatures`](http://scikit-learn.org/stable/modules/generated/sklearn.preprocessing.PolynomialFeatures.html));\n",
    "\n",
    "Kao i inače, za odabir i ispitivanje modela koristit ćemo **unakrsnu provjeru** (engl. *cross-validation*). Skup primjera za učenje podijelit ćemo na **skup za učenje**, **skup za provjeru** i **skup za ispitivanje** u omjeru (otprilike) 3:1:1. Kao u uvijek, model trebate trenirati na skupu za učenje, odabir modela (odnosno optimizaciju hiperparametra) trebate provesti na skupu za provjeru, a konačno vrednovanje modela trebate načiniti na skupu za ispitivanje. Konačno vrednovanje radite samo jednom, za model koji ste na skupu za provjeru odabrali kao optimalan.\n",
    "\n",
    "**NB:** Nakon što odaberete optimalan model na skupu za provjeru, prije konačnog ispitivanja odabrani model ponovno trenirajte na uniji skupova za učenje i provjeru. Na taj način iskorištavate maksimalno iskorištavate dostupne podatke i model će u pravilu biti bolji.\n",
    "\n",
    "Podjela na skup za učenje, provjeru i ispitivanje u ovom je slučaju fiksna kako bi svi imali identične skupove i kako bi rezultati bili usporedivi. (U stvarnosti biste ovakav eksperiment radili malo drugačije: koristili biste višestruku unakrsnu provjeru ili ugnježđenu unakrsnu provjeru. Više o tome u budućim vježbama.) \n",
    "\n",
    "Koristite sljedeće skupove:"
   ]
  },
  {
   "cell_type": "code",
   "execution_count": 156,
   "metadata": {
    "collapsed": false
   },
   "outputs": [
    {
     "name": "stdout",
     "output_type": "stream",
     "text": [
      "(303L, 13L) (101L, 13L) (102L, 13L)\n"
     ]
    }
   ],
   "source": [
    "from sklearn import cross_validation\n",
    "X_train, X_rest, y_train, y_rest = cross_validation.train_test_split(boston.data,boston.target,train_size=0.6,random_state=42)\n",
    "X_validate, X_test, y_validate, y_test = cross_validation.train_test_split(X_rest,y_rest,test_size=0.5,random_state=42)\n",
    "print X_train.shape, X_validate.shape ,X_test.shape"
   ]
  },
  {
   "cell_type": "code",
   "execution_count": 167,
   "metadata": {
    "collapsed": false
   },
   "outputs": [
    {
     "name": "stdout",
     "output_type": "stream",
     "text": [
      "(Lasso(alpha=1.0, copy_X=True, fit_intercept=False, max_iter=1000,\n",
      "   normalize=False, positive=False, precompute=False, random_state=None,\n",
      "   selection='cyclic', tol=0.0001, warm_start=False), 2)\n",
      "Testing error = 13.2879750089\n"
     ]
    }
   ],
   "source": [
    "deg = range(1, 5)\n",
    "Err_min = np.inf\n",
    "best = (None, 0)\n",
    "\n",
    "def cal(model, d, X_train, y_train, X_validate, y_validate, Err_min, best):\n",
    "    feat = PolynomialFeatures(d)\n",
    "    fi_train = feat.fit_transform(X_train)\n",
    "    fi_validate = feat.fit_transform(X_validate)\n",
    "    model.fit(fi_train, y_train)\n",
    "    h_val = model.predict(fi_validate)\n",
    "    Err = mean_squared_error(y_validate, h_val)\n",
    "    if Err < Err_min:\n",
    "        return (Err, (model, d))\n",
    "    else:\n",
    "        return (Err_min, best)\n",
    "    \n",
    "model_1 = LinearRegression(fit_intercept = False)\n",
    "for d in deg:\n",
    "    Err_min, best = cal(model_1, d, X_train, y_train, X_validate, y_validate, Err_min, best)\n",
    "    \n",
    "model_2 = Ridge(fit_intercept = False)\n",
    "for d in deg:\n",
    "    Err_min, best = cal(model_2, d, X_train, y_train, X_validate, y_validate, Err_min, best)\n",
    "    \n",
    "model_3 = Lasso(fit_intercept = False)\n",
    "for d in deg:\n",
    "    Err_min, best = cal(model_3, d, X_train, y_train, X_validate, y_validate, Err_min, best)\n",
    "    \n",
    "print best\n",
    "model, d = best\n",
    "\n",
    "feat = PolynomialFeatures(d, interaction_only=True)\n",
    "fi_train = feat.fit_transform(X_train)\n",
    "fi_validate = feat.fit_transform(X_validate)\n",
    "fi = np.concatenate((fi_train, fi_validate))\n",
    "\n",
    "fi_test = feat.fit_transform(X_test)\n",
    "y = np.concatenate((y_train, y_validate))\n",
    "model.fit(fi, y)\n",
    "h_test = model.predict(fi_test)\n",
    "print 'Testing error =', mean_squared_error(y_test, h_test)"
   ]
  },
  {
   "cell_type": "markdown",
   "metadata": {},
   "source": [
    "**Q:** Koliko značajki ima svaki od modela koji ste isprobali?\n",
    "\n",
    "**Q:** Provjerite točnost odabranog modela na (1) skupu za učenje, (2) skupu za provjeru, (3) uniji ta dva skupa i (4) skupu za ispitivanje. Jesu li odnosi između točnosti modela na ova četiri skupa očekivana? Obrazložite.\n",
    "\n",
    "**Q:** Kod treniranja regresijskog modela moguće je postaviti `fit_intercept=False`, čime se izbjegava optimiranje težine $w_0$. Trenirajte odabrani model s tom postavkom. Usporedite s točnošću optimalnog modela. Je li rezultat očekivan? Obrazložite. Ima li predobrada značajki ikakvog utjecaja na ovu razliku?"
   ]
  },
  {
   "cell_type": "code",
   "execution_count": 170,
   "metadata": {
    "collapsed": false
   },
   "outputs": [
    {
     "name": "stdout",
     "output_type": "stream",
     "text": [
      "Training error:  12.695710725\n",
      "Validating error:  9.5222324052\n",
      "Union error:  11.9023411451\n",
      "Testing error:  13.2879750089\n"
     ]
    }
   ],
   "source": [
    "h_train = model.predict(fi_train)\n",
    "Err_train = mean_squared_error(y_train, h_train)\n",
    "print 'Training error: ', Err_train\n",
    "\n",
    "h_validate = model.predict(fi_validate)\n",
    "Err_validate = mean_squared_error(y_validate, h_validate)\n",
    "print 'Validating error: ', Err_validate\n",
    "\n",
    "fi = np.concatenate((fi_train, fi_validate))\n",
    "y = np.concatenate((y_train, y_validate))\n",
    "h_union = model.predict(fi)\n",
    "Err_union = mean_squared_error(y, h_union)\n",
    "print 'Union error: ', Err_union\n",
    "\n",
    "h_test = model.predict(fi_test)\n",
    "Err_test = mean_squared_error(y_test, h_test)\n",
    "print 'Testing error: ', Err_test"
   ]
  },
  {
   "cell_type": "code",
   "execution_count": 174,
   "metadata": {
    "collapsed": false
   },
   "outputs": [
    {
     "name": "stdout",
     "output_type": "stream",
     "text": [
      "Testing error = 12.3655165519\n"
     ]
    }
   ],
   "source": [
    "model = LinearRegression(fit_intercept = False)\n",
    "Err = []\n",
    "for d in range(1, 5):\n",
    "    Err_min, best = cal(model, d, X_train, y_train, X_validate, y_validate, Err_min, best)\n",
    "    \n",
    "d = best[1]\n",
    "feat = PolynomialFeatures(d, interaction_only=True)\n",
    "fi_train = feat.fit_transform(X_train)\n",
    "fi_validate = feat.fit_transform(X_validate)\n",
    "fi = np.concatenate((fi_train, fi_validate))\n",
    "\n",
    "fi_test = feat.fit_transform(X_test)\n",
    "y = np.concatenate((y_train, y_validate))\n",
    "model.fit(fi, y)\n",
    "h_test = model.predict(fi_test)\n",
    "print 'Testing error =', mean_squared_error(y_test, h_test)"
   ]
  },
  {
   "cell_type": "code",
   "execution_count": null,
   "metadata": {
    "collapsed": true
   },
   "outputs": [],
   "source": []
  }
 ],
 "metadata": {
  "anaconda-cloud": {},
  "kernelspec": {
   "display_name": "Python [conda env:python2]",
   "language": "python",
   "name": "conda-env-python2-py"
  },
  "language_info": {
   "codemirror_mode": {
    "name": "ipython",
    "version": 2
   },
   "file_extension": ".py",
   "mimetype": "text/x-python",
   "name": "python",
   "nbconvert_exporter": "python",
   "pygments_lexer": "ipython2",
   "version": "2.7.12"
  }
 },
 "nbformat": 4,
 "nbformat_minor": 0
}
